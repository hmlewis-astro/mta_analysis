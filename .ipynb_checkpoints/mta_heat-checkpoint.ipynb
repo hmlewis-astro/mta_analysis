{
 "cells": [
  {
   "cell_type": "code",
   "execution_count": 1,
   "id": "3284e977",
   "metadata": {},
   "outputs": [],
   "source": [
    "import os\n",
    "\n",
    "import sqlite3 as sq\n",
    "from sqlalchemy import create_engine, inspect, Table, MetaData\n",
    "from sqlalchemy.orm import sessionmaker\n",
    "\n",
    "import pandas as pd\n"
   ]
  },
  {
   "cell_type": "code",
   "execution_count": 2,
   "id": "b88e934d",
   "metadata": {},
   "outputs": [],
   "source": [
    "mta_data_engine = create_engine(\"sqlite:///mta_data.db\")\n"
   ]
  },
  {
   "cell_type": "code",
   "execution_count": 3,
   "id": "16462b3d",
   "metadata": {},
   "outputs": [],
   "source": [
    "def insert_table_from_csv(csv_list, engine):\n",
    "    for file in csv_list:\n",
    "        with open(file, 'r') as f:\n",
    "            data = pd.read_csv(f)\n",
    "            data.columns = data.columns.str.strip()\n",
    "        data.to_sql(os.path.splitext(file)[0], con=mta_data_engine, index=False, if_exists='replace')\n",
    "    "
   ]
  },
  {
   "cell_type": "code",
   "execution_count": 4,
   "id": "6c497441",
   "metadata": {},
   "outputs": [],
   "source": [
    "insert_table_from_csv(['mta_stations_loc.csv', 'mta_complex_id.csv'], mta_data_engine)\n"
   ]
  },
  {
   "cell_type": "code",
   "execution_count": 5,
   "id": "02b49849",
   "metadata": {},
   "outputs": [
    {
     "name": "stdout",
     "output_type": "stream",
     "text": [
      "['mta_complex_id', 'mta_data', 'mta_stations_loc']\n"
     ]
    }
   ],
   "source": [
    "insp = inspect(mta_data_engine)\n",
    "print(insp.get_table_names())\n"
   ]
  },
  {
   "cell_type": "code",
   "execution_count": null,
   "id": "3d3513ea",
   "metadata": {},
   "outputs": [],
   "source": [
    "pd.read_sql('''\n",
    "            SELECT a.booth, a.unit, a.scp, a.station, a.linename, a.division, \n",
    "              MAX(a.entries)-MIN(a.entries) AS NET_ENTRIES,\n",
    "              MAX(a.exits)-MIN(a.exits) AS NET_EXITS,\n",
    "              CAST(b.complex_id AS int) AS COMPLEX_ID, \n",
    "              c.\"GTFS Latitude\" AS LAT, c.\"GTFS Longitude\" AS LON\n",
    "            FROM mta_data a\n",
    "            JOIN mta_complex_id b\n",
    "            JOIN mta_stations_loc c\n",
    "            ON a.booth = b.booth AND a.unit = b.remote AND b.complex_ID = c.complex_id\n",
    "            WHERE a.date >= '06/01/2017' \n",
    "              AND a.date <= '08/31/2017' \n",
    "              AND a.desc = 'REGULAR'\n",
    "            GROUP BY a.scp\n",
    "            LIMIT 10;\n",
    "            ''', \n",
    "            mta_data_engine)"
   ]
  },
  {
   "cell_type": "code",
   "execution_count": null,
   "id": "a4520062",
   "metadata": {},
   "outputs": [],
   "source": []
  }
 ],
 "metadata": {
  "kernelspec": {
   "display_name": "Python 3",
   "language": "python",
   "name": "python3"
  },
  "language_info": {
   "codemirror_mode": {
    "name": "ipython",
    "version": 3
   },
   "file_extension": ".py",
   "mimetype": "text/x-python",
   "name": "python",
   "nbconvert_exporter": "python",
   "pygments_lexer": "ipython3",
   "version": "3.7.7"
  }
 },
 "nbformat": 4,
 "nbformat_minor": 5
}
